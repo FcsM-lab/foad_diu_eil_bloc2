{
 "cells": [
  {
   "cell_type": "markdown",
   "metadata": {},
   "source": [
    "## Introduction à la complexité"
   ]
  },
  {
   "cell_type": "markdown",
   "metadata": {},
   "source": [
    "Souvenez-vous, nous avions parlé (trop) rapidement de complexité dans la leçon sur le tri des éléments d'un tableau, essayons d'approfondir un peu le sujet !"
   ]
  },
  {
   "cell_type": "markdown",
   "metadata": {},
   "source": [
    "1. [Un QCM pour bien démarrer](#1.-Un-QCM-pour-bien-démarrer)\n",
    "2. [Rappels sur les algorithmes de tri](#2.-Rappels-sur-les-algorithmes-de-tri)\n",
    "3. [Enfin du code](#3.-Enfin-du-code)\n",
    "4. [Quel est le plus efficace ?](#4.-Quel-est-le-plus-efficace-?)\n",
    "5. [Module time](#5.-Module-time)\n",
    "6. [Module Matplotlib](#6.-Module-Matplotlib)\n",
    "7. [Conclusion](#7.-Conclusion)"
   ]
  },
  {
   "cell_type": "markdown",
   "metadata": {},
   "source": [
    "## 1. Un QCM pour bien démarrer"
   ]
  },
  {
   "cell_type": "markdown",
   "metadata": {},
   "source": [
    "Premièrement, vérifions ce que vous avez retenu de la leçon sur les algorithmes de tri et les tableaux en Python !\n",
    "Répondez au <a href=\"https://b.socrative.com/login/student/\">QCM suivant, <img src=\"https://4.bp.blogspot.com/-uH0yztsCnvw/V1g-TSN7TZI/AAAAAAAAJGo/zARBJiK7b2QBIMSh_JUsBzqwYi2ESAPiACKgB/s1600/Socrative%2Bconnexion%2Be%25CC%2581le%25CC%2580ve.png\"> </a> en saisissant **ISNPREMIERE** pour la room name. Vous n'aurez le droit de passer à la suite du TP que si vous obtenez un score d'au moins 8/10 ! Si ce n'est pas le cas, replongez vous dans le chapitre II sur les tableaux et les algorithmes de tri."
   ]
  },
  {
   "cell_type": "markdown",
   "metadata": {},
   "source": [
    "## 2. Rappels sur les algorithmes de tri"
   ]
  },
  {
   "cell_type": "markdown",
   "metadata": {},
   "source": [
    "Revoyons maintenant les différentes méthodes de tri en visionnant la vidéo suivante :"
   ]
  },
  {
   "cell_type": "code",
   "execution_count": 53,
   "metadata": {},
   "outputs": [
    {
     "data": {
      "text/html": [
       "<iframe width=\"560\" height=\"315\" src=\"https://www.youtube.com/embed/ra79TDfotno?rel=0&amp;controls=0&amp;showinfo=0\" frameborder=\"0\" allowfullscreen></iframe>"
      ],
      "text/plain": [
       "<IPython.core.display.HTML object>"
      ]
     },
     "execution_count": 53,
     "metadata": {},
     "output_type": "execute_result"
    }
   ],
   "source": [
    "from IPython.display import HTML\n",
    "\n",
    "# Youtube\n",
    "HTML('<iframe width=\"560\" height=\"315\" src=\"https://www.youtube.com/embed/ra79TDfotno?rel=0&amp;controls=0&amp;showinfo=0\" frameborder=\"0\" allowfullscreen></iframe>')"
   ]
  },
  {
   "cell_type": "markdown",
   "metadata": {},
   "source": [
    "Attribuez maintenant le bon nom (tri_par_insertion/tri_par_selection/tri_bulles) aux trois fonctions tri_1 ; tri_2 et tri_3 suivantes :\n"
   ]
  },
  {
   "cell_type": "code",
   "execution_count": 2,
   "metadata": {},
   "outputs": [],
   "source": [
    "def tri_1(tab) :\n",
    "    for i in range(len(tab)-1):  # de 0 à n-2 (n la longueur de tab)\n",
    "        indmin = i\n",
    "        for j in range(i+1, len(tab)):  # de i+1 à n-1, recherche du min\n",
    "            if tab[j] < tab[indmin]:\n",
    "                indmin = j\n",
    "        tab[indmin], tab[i] = tab[i], tab[indmin]  # échange de valeurs\n",
    "    return tab\n",
    "\n",
    "def tri_2(tab):\n",
    "    i = len(tab)-1\n",
    "    while i >= 1:\n",
    "        for j in range(i):\n",
    "            if tab[j] > tab[j+1]: #on compare un élément et son suivant\n",
    "                tab[j], tab[j+1] = tab[j+1], tab[j] #on échange les valeurs si les éléments ne sont pas bien rangés\n",
    "        i = i-1\n",
    "    return tab\n",
    "\n",
    "def tri_3(tab):\n",
    "        for j in range(1, len(tab)):\n",
    "        # On commence par mémoriser l'élément en cours de placement.\n",
    "        elt_a_placer = tab[j]\n",
    "        # On parcourt tab de la droite vers la gauche\n",
    "        # à partir de l'élément précédent.\n",
    "        i = j - 1\n",
    "        while i >= 0 and tab[i] > elt_a_placer:\n",
    "            # On décale tab[i] vers la droite\n",
    "            # si il est plus grand que elt_a_placer.\n",
    "            tab[i+1] = tab[i]\n",
    "            i -= 1\n",
    "        tab[i+1] = elt_a_placer  # Placement de l'élément à la sortie\n",
    "    return tab"
   ]
  },
  {
   "cell_type": "markdown",
   "metadata": {},
   "source": [
    "## 3. Enfin du code !"
   ]
  },
  {
   "cell_type": "markdown",
   "metadata": {},
   "source": [
    "A vous maintenant de saisir un peu de code ! Ecrire une fonction tab_alea(n,p) qui renvoie un tableau de n entiers aléatoires compris entre 0 et p. N'oubliez pas de tester votre fonction. "
   ]
  },
  {
   "cell_type": "code",
   "execution_count": 57,
   "metadata": {},
   "outputs": [],
   "source": [
    "from random import *\n",
    "def tab_alea(n,p):\n",
    "    \n",
    "    \n",
    "    return new_tab"
   ]
  },
  {
   "cell_type": "markdown",
   "metadata": {},
   "source": [
    "Vérifions maintenant nos algorithmes de tri avec la fonction tab_alea."
   ]
  },
  {
   "cell_type": "code",
   "execution_count": 48,
   "metadata": {
    "scrolled": true
   },
   "outputs": [],
   "source": [
    "tab_test=tab_alea( , )"
   ]
  },
  {
   "cell_type": "markdown",
   "metadata": {},
   "source": [
    "Puisque nos trois algorithmes de tri fonctionnent correctement, on cherche maintenant lequel est le plus efficace. Celui qui rendra donc le plus rapidement le résultat demandé. Pour tenter de conjecturer le meilleur algorithme de tri entre les trois,nous allons comptabiliser les étapes de chaque algorithme. Rendez-vous maintenant <a href=\"https://interstices.info/les-algorithmes-de-tri/\">ici <img src=\"https://encrypted-tbn0.gstatic.com/images?q=tbn%3AANd9GcQwbocJH5kzu9QzZkz6xtwrti72epT_cXIi6Gbx4JR7p5spGX1v&usqp=CAU\"></a>\n",
    "N'hésitez pas à tester d'autres méthodes de tri."
   ]
  },
  {
   "cell_type": "markdown",
   "metadata": {},
   "source": [
    "## 4. Quel est le plus efficace ?"
   ]
  },
  {
   "cell_type": "markdown",
   "metadata": {},
   "source": [
    "Saisissez maintenant le résultats de vos <a href=\"https://b.socrative.com/login/student/\">investigations<img src=\"https://4.bp.blogspot.com/-uH0yztsCnvw/V1g-TSN7TZI/AAAAAAAAJGo/zARBJiK7b2QBIMSh_JUsBzqwYi2ESAPiACKgB/s1600/Socrative%2Bconnexion%2Be%25CC%2581le%25CC%2580ve.png\"></a>. Nous ferons le point en classe sur vos résultats !"
   ]
  },
  {
   "cell_type": "markdown",
   "metadata": {},
   "source": [
    "### Un peu de cours\n",
    "L'objectif premier d'un calcul de complexité algorithmique est de pouvoir comparer l’efficacité d’algorithmes résolvant le même problème. Dans une situation donnée, cela permet donc d'établir lequel des algorithmes disponibles est le plus optimal.\n",
    "\n",
    "Ce type de question est primordial, car pour des données volumineuses la différence entre les durées d'exécution de deux algorithmes ayant la même finalité peut être de l'ordre de plusieurs jours.\n",
    "\n",
    "Avant de se pencher de manière théorique sur la complexité temporelle, nous allons comparer en pratique la complexité des algorithmes de tri vus depuis le début de ce cours."
   ]
  },
  {
   "cell_type": "markdown",
   "metadata": {},
   "source": [
    "## 5. Module `time`\n",
    "Parlons maintenant du module time de Python. Testez le programme suivant :"
   ]
  },
  {
   "cell_type": "code",
   "execution_count": 46,
   "metadata": {},
   "outputs": [],
   "source": [
    "import time\n",
    "debut = time.time()"
   ]
  },
  {
   "cell_type": "code",
   "execution_count": 58,
   "metadata": {},
   "outputs": [],
   "source": [
    "# On attend quelques secondes avant de taper la commande suivante\n",
    "fin = time.time()\n",
    "print(debut < fin)\n",
    "fin - debut # Combien de secondes entre debut et fin ?"
   ]
  },
  {
   "cell_type": "markdown",
   "metadata": {},
   "source": [
    "Voilà maintenant une méthode bien pratique pour déterminer le temps d'éxécution d'un algorithme. Utilisez la fonction time dans chaque algorithme de tri y compris avec la fonction.sort() avec un tableau de 10, 100, 1000 et 10000 valeurs pour vérifier votre conjecture. Il est inutile de retourner le tableau trié ici, seul le temps d'éxécution suffit."
   ]
  },
  {
   "cell_type": "code",
   "execution_count": null,
   "metadata": {},
   "outputs": [],
   "source": [
    "def tri_sort(tab):\n",
    "    deb=time.time()\n",
    "    tab.sort()\n",
    "    fin=time.time()\n",
    "    return deb-fin"
   ]
  },
  {
   "cell_type": "markdown",
   "metadata": {},
   "source": [
    "Les résultats ne sont significatifs que pour un nombre important de valeurs. Il faudrait donc comparer nos algorithmes en variant la taille des données d'entrée.\n",
    "Ecrire un algorithme qui prend en paramètre un entier, qui fait appel à la fonction tab_alea afin de créer n tableaux et qui renvoie le temps d'éxécution de l'algorithme pour ces n tableaux.\n",
    "N'oubliez pas de tester votre algorithme."
   ]
  },
  {
   "cell_type": "code",
   "execution_count": 59,
   "metadata": {},
   "outputs": [],
   "source": [
    "def temps_algo(n,fonction):\n",
    "    tab_tps=[]\n",
    "    tab_donnees=[]\n",
    "    \n",
    "    \n",
    "    \n",
    "    \n",
    "    return tab_donnees,tab_tps\n"
   ]
  },
  {
   "cell_type": "markdown",
   "metadata": {},
   "source": [
    "## 6. Module `matplotlib` <img src=\"https://matplotlib.org/_static/logo2_compressed.svg\" width=\"120\" height=\"30\">"
   ]
  },
  {
   "cell_type": "markdown",
   "metadata": {},
   "source": [
    "Il reste maintenant à comparer les valeurs de chaque liste ! Faisons une petite intiation au module matplotlib pour ça. Regardez le script suivant et analysez-le pour qu'il puisse nous servir dans notre recherche de complexité."
   ]
  },
  {
   "cell_type": "code",
   "execution_count": 65,
   "metadata": {},
   "outputs": [],
   "source": [
    "from math import *\n",
    "import matplotlib.pyplot as plt\n",
    "\n",
    "liste_x_1=[1,50,100,625,1000] # à modifier\n",
    "liste_y_1=[12,18,37.6,28.3,40.7] # à modifier\n",
    "\n",
    "plt.axis([0,1000, 0, 50]) # Attention [x1,x2,y1,y2] s'adapte automatiquement aux données\n",
    "plt.xlabel('Titre abscisses') # à modifier\n",
    "plt.ylabel('Titre ordonnées') # à modifier\n",
    "plt.title(\"C'est le titre\") # à modifier\n",
    "plt.axis('equal') # Pour avoir un repère orthonormé\n",
    "plt.grid()\n",
    "plt.scatter(liste_x_1,liste_y_1, label='type 1')\n",
    "plt.plot(liste_x_1,liste_y_1, label='type 1') #Pour que les données soient reliées entre elles\n",
    "plt.legend()\n",
    "plt.show()"
   ]
  },
  {
   "cell_type": "markdown",
   "metadata": {},
   "source": [
    "Si vous souhaitez davantage d'informations sur le module matplotlib :\n",
    "<a href=\"https://matplotlib.org/\"> En anglais </a> ou\n",
    "<a href=\"https://openclassrooms.com/fr/courses/4452741-decouvrez-les-librairies-python-pour-la-data-science/4740942-maitrisez-les-possibilites-offertes-par-matplotlib\"> En français </a>\n"
   ]
  },
  {
   "cell_type": "markdown",
   "metadata": {},
   "source": [
    "## 7. Conclusion"
   ]
  },
  {
   "cell_type": "markdown",
   "metadata": {},
   "source": [
    "Servez-vous de la bibliothèque matplotlib afin de représenter dans un même repère, les quatre algorithmes de tri étudiés."
   ]
  },
  {
   "cell_type": "code",
   "execution_count": 60,
   "metadata": {},
   "outputs": [
    {
     "data": {
      "image/png": "[encoded data removed]",
      "text/plain": [
       "<Figure size 432x288 with 1 Axes>"
      ]
     },
     "metadata": {
      "needs_background": "light"
     },
     "output_type": "display_data"
    }
   ],
   "source": [
    "from math import *\n",
    "import matplotlib.pyplot as plt\n",
    "\n",
    "\n",
    "plt.axis([0,1, 0, 1]) # Attention [x1,x2,y1,y2]\n",
    "plt.xlabel('')\n",
    "plt.ylabel('')\n",
    "plt.title(\"\")\n",
    "#plt.axis('equal') # Pour avoir un repère orthonormé\n",
    "plt.grid()\n",
    "plt.plot(tps_selection[0],tps_selection[1], label='tri sélection')\n",
    "plt.plot(tps_insertion[0],tps_insertion[1], label='tri_insertion')\n",
    "plt.plot(tps_bulles[0],tps_bulles[1], label='tri bulles')\n",
    "plt.plot(tps_sort[0],tps_sort[1], label='tri sort')\n",
    "plt.legend()\n",
    "plt.show()"
   ]
  },
  {
   "cell_type": "markdown",
   "metadata": {},
   "source": [
    "Cherchez la meilleure échelle pour pouvoir comparer les données et conclure ! N'hésitez pas à faire varier les tableaux tests pour avoir une meilleure précision/prévision mais prenez garde auxtemps d'éxécution des algorithmes."
   ]
  }
 ],
 "metadata": {
  "celltoolbar": "Aucun(e)",
  "kernelspec": {
   "display_name": "Python 3",
   "language": "python",
   "name": "python3"
  },
  "language_info": {
   "codemirror_mode": {
    "name": "ipython",
    "version": 3
   },
   "file_extension": ".py",
   "mimetype": "text/x-python",
   "name": "python",
   "nbconvert_exporter": "python",
   "pygments_lexer": "ipython3",
   "version": "3.7.6"
  }
 },
 "nbformat": 4,
 "nbformat_minor": 4
}
